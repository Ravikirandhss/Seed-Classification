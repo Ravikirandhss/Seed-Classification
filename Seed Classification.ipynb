{
 "cells": [
  {
   "cell_type": "code",
   "execution_count": 60,
   "metadata": {},
   "outputs": [],
   "source": [
    "import numpy as np\n",
    "import pandas as pd\n",
    "import matplotlib.pyplot as plt\n",
    "import seaborn as sns"
   ]
  },
  {
   "cell_type": "code",
   "execution_count": 61,
   "metadata": {},
   "outputs": [
    {
     "data": {
      "text/html": [
       "<div>\n",
       "<style scoped>\n",
       "    .dataframe tbody tr th:only-of-type {\n",
       "        vertical-align: middle;\n",
       "    }\n",
       "\n",
       "    .dataframe tbody tr th {\n",
       "        vertical-align: top;\n",
       "    }\n",
       "\n",
       "    .dataframe thead th {\n",
       "        text-align: right;\n",
       "    }\n",
       "</style>\n",
       "<table border=\"1\" class=\"dataframe\">\n",
       "  <thead>\n",
       "    <tr style=\"text-align: right;\">\n",
       "      <th></th>\n",
       "      <th>area</th>\n",
       "      <th>perimeter</th>\n",
       "      <th>compactness</th>\n",
       "      <th>length</th>\n",
       "      <th>width</th>\n",
       "      <th>asymmetry_coefficient</th>\n",
       "      <th>groove_length</th>\n",
       "      <th>grain_variety</th>\n",
       "    </tr>\n",
       "  </thead>\n",
       "  <tbody>\n",
       "    <tr>\n",
       "      <td>0</td>\n",
       "      <td>15.26</td>\n",
       "      <td>14.84</td>\n",
       "      <td>0.8710</td>\n",
       "      <td>5.763</td>\n",
       "      <td>3.312</td>\n",
       "      <td>2.221</td>\n",
       "      <td>5.220</td>\n",
       "      <td>Kama wheat</td>\n",
       "    </tr>\n",
       "    <tr>\n",
       "      <td>1</td>\n",
       "      <td>14.88</td>\n",
       "      <td>14.57</td>\n",
       "      <td>0.8811</td>\n",
       "      <td>5.554</td>\n",
       "      <td>3.333</td>\n",
       "      <td>1.018</td>\n",
       "      <td>4.956</td>\n",
       "      <td>Kama wheat</td>\n",
       "    </tr>\n",
       "    <tr>\n",
       "      <td>2</td>\n",
       "      <td>14.29</td>\n",
       "      <td>14.09</td>\n",
       "      <td>0.9050</td>\n",
       "      <td>5.291</td>\n",
       "      <td>3.337</td>\n",
       "      <td>2.699</td>\n",
       "      <td>4.825</td>\n",
       "      <td>Kama wheat</td>\n",
       "    </tr>\n",
       "    <tr>\n",
       "      <td>3</td>\n",
       "      <td>13.84</td>\n",
       "      <td>13.94</td>\n",
       "      <td>0.8955</td>\n",
       "      <td>5.324</td>\n",
       "      <td>3.379</td>\n",
       "      <td>2.259</td>\n",
       "      <td>4.805</td>\n",
       "      <td>Kama wheat</td>\n",
       "    </tr>\n",
       "    <tr>\n",
       "      <td>4</td>\n",
       "      <td>16.14</td>\n",
       "      <td>14.99</td>\n",
       "      <td>0.9034</td>\n",
       "      <td>5.658</td>\n",
       "      <td>3.562</td>\n",
       "      <td>1.355</td>\n",
       "      <td>5.175</td>\n",
       "      <td>Kama wheat</td>\n",
       "    </tr>\n",
       "  </tbody>\n",
       "</table>\n",
       "</div>"
      ],
      "text/plain": [
       "    area  perimeter  compactness  length  width  asymmetry_coefficient  \\\n",
       "0  15.26      14.84       0.8710   5.763  3.312                  2.221   \n",
       "1  14.88      14.57       0.8811   5.554  3.333                  1.018   \n",
       "2  14.29      14.09       0.9050   5.291  3.337                  2.699   \n",
       "3  13.84      13.94       0.8955   5.324  3.379                  2.259   \n",
       "4  16.14      14.99       0.9034   5.658  3.562                  1.355   \n",
       "\n",
       "   groove_length grain_variety  \n",
       "0          5.220    Kama wheat  \n",
       "1          4.956    Kama wheat  \n",
       "2          4.825    Kama wheat  \n",
       "3          4.805    Kama wheat  \n",
       "4          5.175    Kama wheat  "
      ]
     },
     "execution_count": 61,
     "metadata": {},
     "output_type": "execute_result"
    }
   ],
   "source": [
    "df = pd.read_csv(\"seed.csv\")\n",
    "df.head()"
   ]
  },
  {
   "cell_type": "markdown",
   "metadata": {},
   "source": [
    "#### Here the Target variable is Grain_Variety. We need to find the type of grain"
   ]
  },
  {
   "cell_type": "markdown",
   "metadata": {},
   "source": [
    "## Identification of Variables"
   ]
  },
  {
   "cell_type": "code",
   "execution_count": 62,
   "metadata": {},
   "outputs": [
    {
     "data": {
      "text/plain": [
       "Index(['area', 'perimeter', 'compactness', 'length', 'width',\n",
       "       'asymmetry_coefficient', 'groove_length', 'grain_variety'],\n",
       "      dtype='object')"
      ]
     },
     "execution_count": 62,
     "metadata": {},
     "output_type": "execute_result"
    }
   ],
   "source": [
    "df.columns"
   ]
  },
  {
   "cell_type": "code",
   "execution_count": 99,
   "metadata": {},
   "outputs": [
    {
     "data": {
      "text/plain": [
       "(210, 8)"
      ]
     },
     "execution_count": 99,
     "metadata": {},
     "output_type": "execute_result"
    }
   ],
   "source": [
    "df.shape"
   ]
  },
  {
   "cell_type": "code",
   "execution_count": 63,
   "metadata": {},
   "outputs": [
    {
     "data": {
      "text/plain": [
       "area                     float64\n",
       "perimeter                float64\n",
       "compactness              float64\n",
       "length                   float64\n",
       "width                    float64\n",
       "asymmetry_coefficient    float64\n",
       "groove_length            float64\n",
       "grain_variety             object\n",
       "dtype: object"
      ]
     },
     "execution_count": 63,
     "metadata": {},
     "output_type": "execute_result"
    }
   ],
   "source": [
    "df.dtypes"
   ]
  },
  {
   "cell_type": "code",
   "execution_count": 122,
   "metadata": {},
   "outputs": [
    {
     "data": {
      "text/plain": [
       "array(['Kama wheat', 'Rosa wheat', 'Canadian wheat'], dtype=object)"
      ]
     },
     "execution_count": 122,
     "metadata": {},
     "output_type": "execute_result"
    }
   ],
   "source": [
    "df['grain_variety'].unique()"
   ]
  },
  {
   "cell_type": "markdown",
   "metadata": {},
   "source": [
    "### Here we cannot find some parameters which can be judged to be removed by their name. \n",
    "##### Ex: Name of a Person in some scenario\n"
   ]
  },
  {
   "cell_type": "markdown",
   "metadata": {},
   "source": [
    "### Identifying Missing values"
   ]
  },
  {
   "cell_type": "code",
   "execution_count": 64,
   "metadata": {},
   "outputs": [
    {
     "data": {
      "text/plain": [
       "area                     0\n",
       "perimeter                0\n",
       "compactness              0\n",
       "length                   0\n",
       "width                    0\n",
       "asymmetry_coefficient    0\n",
       "groove_length            0\n",
       "grain_variety            0\n",
       "dtype: int64"
      ]
     },
     "execution_count": 64,
     "metadata": {},
     "output_type": "execute_result"
    }
   ],
   "source": [
    "df.isnull().sum()"
   ]
  },
  {
   "cell_type": "markdown",
   "metadata": {},
   "source": [
    "There are no missing values. So we need not think of replacing the missing values with another set of values."
   ]
  },
  {
   "cell_type": "markdown",
   "metadata": {},
   "source": [
    "### Univariate Analysis"
   ]
  },
  {
   "cell_type": "markdown",
   "metadata": {},
   "source": [
    "#### Here we find all the features to be continuous. Hence we use box plot to analyse the data to detect outliers"
   ]
  },
  {
   "cell_type": "code",
   "execution_count": 65,
   "metadata": {},
   "outputs": [
    {
     "data": {
      "text/plain": [
       "<matplotlib.axes._subplots.AxesSubplot at 0x1f2626aafc8>"
      ]
     },
     "execution_count": 65,
     "metadata": {},
     "output_type": "execute_result"
    },
    {
     "data": {
      "image/png": "[encoded data removed]",
      "text/plain": [
       "<Figure size 432x288 with 1 Axes>"
      ]
     },
     "metadata": {
      "needs_background": "light"
     },
     "output_type": "display_data"
    }
   ],
   "source": [
    "df[\"area\"].plot(kind='box')"
   ]
  },
  {
   "cell_type": "code",
   "execution_count": 66,
   "metadata": {},
   "outputs": [
    {
     "data": {
      "text/plain": [
       "<matplotlib.axes._subplots.AxesSubplot at 0x1f262d19248>"
      ]
     },
     "execution_count": 66,
     "metadata": {},
     "output_type": "execute_result"
    },
    {
     "data": {
      "image/png": "[encoded data removed]",
      "text/plain": [
       "<Figure size 432x288 with 1 Axes>"
      ]
     },
     "metadata": {
      "needs_background": "light"
     },
     "output_type": "display_data"
    }
   ],
   "source": [
    "df[\"perimeter\"].plot(kind='box')"
   ]
  },
  {
   "cell_type": "code",
   "execution_count": 67,
   "metadata": {},
   "outputs": [
    {
     "data": {
      "text/plain": [
       "<matplotlib.axes._subplots.AxesSubplot at 0x1f262d88088>"
      ]
     },
     "execution_count": 67,
     "metadata": {},
     "output_type": "execute_result"
    },
    {
     "data": {
      "image/png": "[encoded data removed]",
      "text/plain": [
       "<Figure size 432x288 with 1 Axes>"
      ]
     },
     "metadata": {
      "needs_background": "light"
     },
     "output_type": "display_data"
    }
   ],
   "source": [
    "df[\"compactness\"].plot(kind='box')"
   ]
  },
  {
   "cell_type": "code",
   "execution_count": 68,
   "metadata": {},
   "outputs": [
    {
     "data": {
      "text/plain": [
       "<matplotlib.axes._subplots.AxesSubplot at 0x1f262de9748>"
      ]
     },
     "execution_count": 68,
     "metadata": {},
     "output_type": "execute_result"
    },
    {
     "data": {
      "image/png": "[encoded data removed]",
      "text/plain": [
       "<Figure size 432x288 with 1 Axes>"
      ]
     },
     "metadata": {
      "needs_background": "light"
     },
     "output_type": "display_data"
    }
   ],
   "source": [
    "df[\"length\"].plot(kind='box')"
   ]
  },
  {
   "cell_type": "code",
   "execution_count": 69,
   "metadata": {},
   "outputs": [
    {
     "data": {
      "text/plain": [
       "<matplotlib.axes._subplots.AxesSubplot at 0x1f262e5f148>"
      ]
     },
     "execution_count": 69,
     "metadata": {},
     "output_type": "execute_result"
    },
    {
     "data": {
      "image/png": "[encoded data removed]",
      "text/plain": [
       "<Figure size 432x288 with 1 Axes>"
      ]
     },
     "metadata": {
      "needs_background": "light"
     },
     "output_type": "display_data"
    }
   ],
   "source": [
    "df[\"width\"].plot(kind='box')"
   ]
  },
  {
   "cell_type": "code",
   "execution_count": 70,
   "metadata": {},
   "outputs": [
    {
     "data": {
      "text/plain": [
       "<matplotlib.axes._subplots.AxesSubplot at 0x1f263ea1048>"
      ]
     },
     "execution_count": 70,
     "metadata": {},
     "output_type": "execute_result"
    },
    {
     "data": {
      "image/png": "[encoded data removed]",
      "text/plain": [
       "<Figure size 432x288 with 1 Axes>"
      ]
     },
     "metadata": {
      "needs_background": "light"
     },
     "output_type": "display_data"
    }
   ],
   "source": [
    "df[\"asymmetry_coefficient\"].plot(kind='box')"
   ]
  },
  {
   "cell_type": "code",
   "execution_count": 71,
   "metadata": {},
   "outputs": [
    {
     "data": {
      "text/plain": [
       "<matplotlib.axes._subplots.AxesSubplot at 0x1f263f07688>"
      ]
     },
     "execution_count": 71,
     "metadata": {},
     "output_type": "execute_result"
    },
    {
     "data": {
      "image/png": "[encoded data removed]",
      "text/plain": [
       "<Figure size 432x288 with 1 Axes>"
      ]
     },
     "metadata": {
      "needs_background": "light"
     },
     "output_type": "display_data"
    }
   ],
   "source": [
    "df[\"groove_length\"].plot(kind='box')"
   ]
  },
  {
   "cell_type": "markdown",
   "metadata": {},
   "source": [
    "#### From the above analysis we find the features 'compactness' and 'asymmetry_coefficient' had outliers in it"
   ]
  },
  {
   "cell_type": "markdown",
   "metadata": {},
   "source": [
    "### Bivariate Analysis"
   ]
  },
  {
   "cell_type": "code",
   "execution_count": 72,
   "metadata": {},
   "outputs": [
    {
     "data": {
      "text/plain": [
       "<matplotlib.axes._subplots.AxesSubplot at 0x1f263f7df48>"
      ]
     },
     "execution_count": 72,
     "metadata": {},
     "output_type": "execute_result"
    },
    {
     "data": {
      "image/png": "[encoded data removed]",
      "text/plain": [
       "<Figure size 432x288 with 1 Axes>"
      ]
     },
     "metadata": {
      "needs_background": "light"
     },
     "output_type": "display_data"
    }
   ],
   "source": [
    "sns.boxplot(x='grain_variety',y='length',data=df)"
   ]
  },
  {
   "cell_type": "code",
   "execution_count": 73,
   "metadata": {},
   "outputs": [
    {
     "data": {
      "text/plain": [
       "<matplotlib.axes._subplots.AxesSubplot at 0x1f264019108>"
      ]
     },
     "execution_count": 73,
     "metadata": {},
     "output_type": "execute_result"
    },
    {
     "data": {
      "image/png": "[encoded data removed]",
      "text/plain": [
       "<Figure size 432x288 with 1 Axes>"
      ]
     },
     "metadata": {
      "needs_background": "light"
     },
     "output_type": "display_data"
    }
   ],
   "source": [
    "sns.boxplot(x='grain_variety',y='width',data=df)"
   ]
  },
  {
   "cell_type": "code",
   "execution_count": 74,
   "metadata": {},
   "outputs": [
    {
     "data": {
      "text/plain": [
       "<matplotlib.axes._subplots.AxesSubplot at 0x1f2640b4988>"
      ]
     },
     "execution_count": 74,
     "metadata": {},
     "output_type": "execute_result"
    },
    {
     "data": {
      "image/png": "[encoded data removed]",
      "text/plain": [
       "<Figure size 432x288 with 1 Axes>"
      ]
     },
     "metadata": {
      "needs_background": "light"
     },
     "output_type": "display_data"
    }
   ],
   "source": [
    "sns.boxplot(x='grain_variety',y='compactness',data=df)"
   ]
  },
  {
   "cell_type": "code",
   "execution_count": 75,
   "metadata": {},
   "outputs": [
    {
     "data": {
      "text/plain": [
       "<matplotlib.axes._subplots.AxesSubplot at 0x1f26413c488>"
      ]
     },
     "execution_count": 75,
     "metadata": {},
     "output_type": "execute_result"
    },
    {
     "data": {
      "image/png": "[encoded data removed]",
      "text/plain": [
       "<Figure size 432x288 with 1 Axes>"
      ]
     },
     "metadata": {
      "needs_background": "light"
     },
     "output_type": "display_data"
    }
   ],
   "source": [
    "sns.boxplot(x='grain_variety',y='asymmetry_coefficient',data=df)"
   ]
  },
  {
   "cell_type": "code",
   "execution_count": 76,
   "metadata": {},
   "outputs": [
    {
     "data": {
      "text/plain": [
       "<matplotlib.axes._subplots.AxesSubplot at 0x1f2641d1508>"
      ]
     },
     "execution_count": 76,
     "metadata": {},
     "output_type": "execute_result"
    },
    {
     "data": {
      "image/png": "[encoded data removed]",
      "text/plain": [
       "<Figure size 432x288 with 1 Axes>"
      ]
     },
     "metadata": {
      "needs_background": "light"
     },
     "output_type": "display_data"
    }
   ],
   "source": [
    "sns.boxplot(x='grain_variety',y='area',data=df)"
   ]
  },
  {
   "cell_type": "code",
   "execution_count": 77,
   "metadata": {},
   "outputs": [
    {
     "data": {
      "text/plain": [
       "<matplotlib.axes._subplots.AxesSubplot at 0x1f2642668c8>"
      ]
     },
     "execution_count": 77,
     "metadata": {},
     "output_type": "execute_result"
    },
    {
     "data": {
      "image/png": "[encoded data removed]",
      "text/plain": [
       "<Figure size 432x288 with 1 Axes>"
      ]
     },
     "metadata": {
      "needs_background": "light"
     },
     "output_type": "display_data"
    }
   ],
   "source": [
    "sns.boxplot(x='grain_variety',y='perimeter',data=df)"
   ]
  },
  {
   "cell_type": "code",
   "execution_count": 78,
   "metadata": {},
   "outputs": [
    {
     "data": {
      "text/plain": [
       "<matplotlib.axes._subplots.AxesSubplot at 0x1f2642ed7c8>"
      ]
     },
     "execution_count": 78,
     "metadata": {},
     "output_type": "execute_result"
    },
    {
     "data": {
      "image/png": "[encoded data removed]",
      "text/plain": [
       "<Figure size 432x288 with 1 Axes>"
      ]
     },
     "metadata": {
      "needs_background": "light"
     },
     "output_type": "display_data"
    }
   ],
   "source": [
    "sns.boxplot(x='grain_variety',y='groove_length',data=df)"
   ]
  },
  {
   "cell_type": "markdown",
   "metadata": {},
   "source": [
    "## Getting rid of Outliers"
   ]
  },
  {
   "cell_type": "code",
   "execution_count": 79,
   "metadata": {},
   "outputs": [
    {
     "data": {
      "text/plain": [
       "(8.079625, -0.7493750000000006)"
      ]
     },
     "execution_count": 79,
     "metadata": {},
     "output_type": "execute_result"
    }
   ],
   "source": [
    "IQR_ac = df['asymmetry_coefficient'].quantile(0.75)-df['asymmetry_coefficient'].quantile(0.25)\n",
    "UpperLimit=df['asymmetry_coefficient'].quantile(0.75)+1.5*IQR_ac\n",
    "LowerLimit=df['asymmetry_coefficient'].quantile(0.25)-1.5*IQR_ac\n",
    "UpperLimit,LowerLimit"
   ]
  },
  {
   "cell_type": "code",
   "execution_count": 80,
   "metadata": {},
   "outputs": [],
   "source": [
    "outliers_1 = df[(df['asymmetry_coefficient']>=UpperLimit)|(df['asymmetry_coefficient']<=LowerLimit)]"
   ]
  },
  {
   "cell_type": "code",
   "execution_count": 81,
   "metadata": {},
   "outputs": [
    {
     "data": {
      "text/html": [
       "<div>\n",
       "<style scoped>\n",
       "    .dataframe tbody tr th:only-of-type {\n",
       "        vertical-align: middle;\n",
       "    }\n",
       "\n",
       "    .dataframe tbody tr th {\n",
       "        vertical-align: top;\n",
       "    }\n",
       "\n",
       "    .dataframe thead th {\n",
       "        text-align: right;\n",
       "    }\n",
       "</style>\n",
       "<table border=\"1\" class=\"dataframe\">\n",
       "  <thead>\n",
       "    <tr style=\"text-align: right;\">\n",
       "      <th></th>\n",
       "      <th>area</th>\n",
       "      <th>perimeter</th>\n",
       "      <th>compactness</th>\n",
       "      <th>length</th>\n",
       "      <th>width</th>\n",
       "      <th>asymmetry_coefficient</th>\n",
       "      <th>groove_length</th>\n",
       "      <th>grain_variety</th>\n",
       "    </tr>\n",
       "  </thead>\n",
       "  <tbody>\n",
       "    <tr>\n",
       "      <td>203</td>\n",
       "      <td>12.7</td>\n",
       "      <td>13.41</td>\n",
       "      <td>0.8874</td>\n",
       "      <td>5.183</td>\n",
       "      <td>3.091</td>\n",
       "      <td>8.456</td>\n",
       "      <td>5.000</td>\n",
       "      <td>Canadian wheat</td>\n",
       "    </tr>\n",
       "    <tr>\n",
       "      <td>207</td>\n",
       "      <td>13.2</td>\n",
       "      <td>13.66</td>\n",
       "      <td>0.8883</td>\n",
       "      <td>5.236</td>\n",
       "      <td>3.232</td>\n",
       "      <td>8.315</td>\n",
       "      <td>5.056</td>\n",
       "      <td>Canadian wheat</td>\n",
       "    </tr>\n",
       "  </tbody>\n",
       "</table>\n",
       "</div>"
      ],
      "text/plain": [
       "     area  perimeter  compactness  length  width  asymmetry_coefficient  \\\n",
       "203  12.7      13.41       0.8874   5.183  3.091                  8.456   \n",
       "207  13.2      13.66       0.8883   5.236  3.232                  8.315   \n",
       "\n",
       "     groove_length   grain_variety  \n",
       "203          5.000  Canadian wheat  \n",
       "207          5.056  Canadian wheat  "
      ]
     },
     "execution_count": 81,
     "metadata": {},
     "output_type": "execute_result"
    }
   ],
   "source": [
    "outliers_1"
   ]
  },
  {
   "cell_type": "code",
   "execution_count": 82,
   "metadata": {},
   "outputs": [
    {
     "name": "stdout",
     "output_type": "stream",
     "text": [
      "[203, 207]\n"
     ]
    }
   ],
   "source": [
    "index_1=list(outliers_1.index)\n",
    "print(index_1)"
   ]
  },
  {
   "cell_type": "code",
   "execution_count": 83,
   "metadata": {},
   "outputs": [
    {
     "name": "stderr",
     "output_type": "stream",
     "text": [
      "C:\\Users\\Ravi\\Anaconda3\\lib\\site-packages\\ipykernel_launcher.py:2: SettingWithCopyWarning: \n",
      "A value is trying to be set on a copy of a slice from a DataFrame\n",
      "\n",
      "See the caveats in the documentation: http://pandas.pydata.org/pandas-docs/stable/user_guide/indexing.html#returning-a-view-versus-a-copy\n",
      "  \n"
     ]
    }
   ],
   "source": [
    "for ind in index_1:\n",
    "    df['asymmetry_coefficient'][ind]=df['asymmetry_coefficient'].quantile(0.75)"
   ]
  },
  {
   "cell_type": "code",
   "execution_count": 84,
   "metadata": {},
   "outputs": [
    {
     "data": {
      "text/plain": [
       "<matplotlib.axes._subplots.AxesSubplot at 0x1f2643990c8>"
      ]
     },
     "execution_count": 84,
     "metadata": {},
     "output_type": "execute_result"
    },
    {
     "data": {
      "image/png": "[encoded data removed]",
      "text/plain": [
       "<Figure size 432x288 with 1 Axes>"
      ]
     },
     "metadata": {
      "needs_background": "light"
     },
     "output_type": "display_data"
    }
   ],
   "source": [
    "df[\"asymmetry_coefficient\"].plot(kind='box')"
   ]
  },
  {
   "cell_type": "code",
   "execution_count": 85,
   "metadata": {},
   "outputs": [
    {
     "data": {
      "text/plain": [
       "(0.9340875, -0.7493750000000006)"
      ]
     },
     "execution_count": 85,
     "metadata": {},
     "output_type": "execute_result"
    }
   ],
   "source": [
    "IQR_co = df['compactness'].quantile(0.75)-df['compactness'].quantile(0.25)\n",
    "ULimit=df['compactness'].quantile(0.75)+1.5*IQR_co\n",
    "LLimit=df['compactness'].quantile(0.25)-1.5*IQR_co\n",
    "ULimit,LowerLimit"
   ]
  },
  {
   "cell_type": "code",
   "execution_count": 86,
   "metadata": {},
   "outputs": [],
   "source": [
    "outliers_2 = df[(df['compactness']>=ULimit)|(df['compactness']<=LLimit)]"
   ]
  },
  {
   "cell_type": "code",
   "execution_count": 87,
   "metadata": {},
   "outputs": [
    {
     "data": {
      "text/html": [
       "<div>\n",
       "<style scoped>\n",
       "    .dataframe tbody tr th:only-of-type {\n",
       "        vertical-align: middle;\n",
       "    }\n",
       "\n",
       "    .dataframe tbody tr th {\n",
       "        vertical-align: top;\n",
       "    }\n",
       "\n",
       "    .dataframe thead th {\n",
       "        text-align: right;\n",
       "    }\n",
       "</style>\n",
       "<table border=\"1\" class=\"dataframe\">\n",
       "  <thead>\n",
       "    <tr style=\"text-align: right;\">\n",
       "      <th></th>\n",
       "      <th>area</th>\n",
       "      <th>perimeter</th>\n",
       "      <th>compactness</th>\n",
       "      <th>length</th>\n",
       "      <th>width</th>\n",
       "      <th>asymmetry_coefficient</th>\n",
       "      <th>groove_length</th>\n",
       "      <th>grain_variety</th>\n",
       "    </tr>\n",
       "  </thead>\n",
       "  <tbody>\n",
       "    <tr>\n",
       "      <td>157</td>\n",
       "      <td>12.13</td>\n",
       "      <td>13.73</td>\n",
       "      <td>0.8081</td>\n",
       "      <td>5.394</td>\n",
       "      <td>2.745</td>\n",
       "      <td>4.825</td>\n",
       "      <td>5.220</td>\n",
       "      <td>Canadian wheat</td>\n",
       "    </tr>\n",
       "    <tr>\n",
       "      <td>158</td>\n",
       "      <td>11.75</td>\n",
       "      <td>13.52</td>\n",
       "      <td>0.8082</td>\n",
       "      <td>5.444</td>\n",
       "      <td>2.678</td>\n",
       "      <td>4.378</td>\n",
       "      <td>5.310</td>\n",
       "      <td>Canadian wheat</td>\n",
       "    </tr>\n",
       "    <tr>\n",
       "      <td>174</td>\n",
       "      <td>10.83</td>\n",
       "      <td>12.96</td>\n",
       "      <td>0.8099</td>\n",
       "      <td>5.278</td>\n",
       "      <td>2.641</td>\n",
       "      <td>5.182</td>\n",
       "      <td>5.185</td>\n",
       "      <td>Canadian wheat</td>\n",
       "    </tr>\n",
       "  </tbody>\n",
       "</table>\n",
       "</div>"
      ],
      "text/plain": [
       "      area  perimeter  compactness  length  width  asymmetry_coefficient  \\\n",
       "157  12.13      13.73       0.8081   5.394  2.745                  4.825   \n",
       "158  11.75      13.52       0.8082   5.444  2.678                  4.378   \n",
       "174  10.83      12.96       0.8099   5.278  2.641                  5.182   \n",
       "\n",
       "     groove_length   grain_variety  \n",
       "157          5.220  Canadian wheat  \n",
       "158          5.310  Canadian wheat  \n",
       "174          5.185  Canadian wheat  "
      ]
     },
     "execution_count": 87,
     "metadata": {},
     "output_type": "execute_result"
    }
   ],
   "source": [
    "outliers_2"
   ]
  },
  {
   "cell_type": "code",
   "execution_count": 88,
   "metadata": {},
   "outputs": [
    {
     "name": "stdout",
     "output_type": "stream",
     "text": [
      "[157, 158, 174]\n"
     ]
    }
   ],
   "source": [
    "index_2=list(outliers_2.index)\n",
    "print(index_2)"
   ]
  },
  {
   "cell_type": "code",
   "execution_count": 92,
   "metadata": {},
   "outputs": [
    {
     "name": "stderr",
     "output_type": "stream",
     "text": [
      "C:\\Users\\Ravi\\Anaconda3\\lib\\site-packages\\ipykernel_launcher.py:2: SettingWithCopyWarning: \n",
      "A value is trying to be set on a copy of a slice from a DataFrame\n",
      "\n",
      "See the caveats in the documentation: http://pandas.pydata.org/pandas-docs/stable/user_guide/indexing.html#returning-a-view-versus-a-copy\n",
      "  \n"
     ]
    }
   ],
   "source": [
    "for ind_ in index_2:\n",
    "    df['compactness'][ind_]=df['compactness'].quantile(0.25)"
   ]
  },
  {
   "cell_type": "code",
   "execution_count": 93,
   "metadata": {},
   "outputs": [
    {
     "data": {
      "text/plain": [
       "<matplotlib.axes._subplots.AxesSubplot at 0x1f26448c6c8>"
      ]
     },
     "execution_count": 93,
     "metadata": {},
     "output_type": "execute_result"
    },
    {
     "data": {
      "image/png": "[encoded data removed]",
      "text/plain": [
       "<Figure size 432x288 with 1 Axes>"
      ]
     },
     "metadata": {
      "needs_background": "light"
     },
     "output_type": "display_data"
    }
   ],
   "source": [
    "df['compactness'].plot(kind='box')"
   ]
  },
  {
   "cell_type": "markdown",
   "metadata": {},
   "source": [
    "### Creating NumPy Matrices of Features and Target  variable"
   ]
  },
  {
   "cell_type": "code",
   "execution_count": 94,
   "metadata": {},
   "outputs": [],
   "source": [
    "X = df.iloc[:,:-1].values"
   ]
  },
  {
   "cell_type": "code",
   "execution_count": 95,
   "metadata": {},
   "outputs": [],
   "source": [
    "Y = df.iloc[:,-1].values"
   ]
  },
  {
   "cell_type": "code",
   "execution_count": 96,
   "metadata": {},
   "outputs": [
    {
     "data": {
      "text/plain": [
       "array([[15.26     , 14.84     ,  0.871    , ...,  3.312    ,  2.221    ,\n",
       "         5.22     ],\n",
       "       [14.88     , 14.57     ,  0.8811   , ...,  3.333    ,  1.018    ,\n",
       "         4.956    ],\n",
       "       [14.29     , 14.09     ,  0.905    , ...,  3.337    ,  2.699    ,\n",
       "         4.825    ],\n",
       "       ...,\n",
       "       [13.2      , 13.66     ,  0.8883   , ...,  3.232    ,  4.7655625,\n",
       "         5.056    ],\n",
       "       [11.84     , 13.21     ,  0.8521   , ...,  2.836    ,  3.598    ,\n",
       "         5.044    ],\n",
       "       [12.3      , 13.34     ,  0.8684   , ...,  2.974    ,  5.637    ,\n",
       "         5.063    ]])"
      ]
     },
     "execution_count": 96,
     "metadata": {},
     "output_type": "execute_result"
    }
   ],
   "source": [
    "X"
   ]
  },
  {
   "cell_type": "code",
   "execution_count": 97,
   "metadata": {},
   "outputs": [
    {
     "data": {
      "text/plain": [
       "array(['Kama wheat', 'Kama wheat', 'Kama wheat', 'Kama wheat',\n",
       "       'Kama wheat', 'Kama wheat', 'Kama wheat', 'Kama wheat',\n",
       "       'Kama wheat', 'Kama wheat', 'Kama wheat', 'Kama wheat',\n",
       "       'Kama wheat', 'Kama wheat', 'Kama wheat', 'Kama wheat',\n",
       "       'Kama wheat', 'Kama wheat', 'Kama wheat', 'Kama wheat',\n",
       "       'Kama wheat', 'Kama wheat', 'Kama wheat', 'Kama wheat',\n",
       "       'Kama wheat', 'Kama wheat', 'Kama wheat', 'Kama wheat',\n",
       "       'Kama wheat', 'Kama wheat', 'Kama wheat', 'Kama wheat',\n",
       "       'Kama wheat', 'Kama wheat', 'Kama wheat', 'Kama wheat',\n",
       "       'Kama wheat', 'Kama wheat', 'Kama wheat', 'Kama wheat',\n",
       "       'Kama wheat', 'Kama wheat', 'Kama wheat', 'Kama wheat',\n",
       "       'Kama wheat', 'Kama wheat', 'Kama wheat', 'Kama wheat',\n",
       "       'Kama wheat', 'Kama wheat', 'Kama wheat', 'Kama wheat',\n",
       "       'Kama wheat', 'Kama wheat', 'Kama wheat', 'Kama wheat',\n",
       "       'Kama wheat', 'Kama wheat', 'Kama wheat', 'Kama wheat',\n",
       "       'Kama wheat', 'Kama wheat', 'Kama wheat', 'Kama wheat',\n",
       "       'Kama wheat', 'Kama wheat', 'Kama wheat', 'Kama wheat',\n",
       "       'Kama wheat', 'Kama wheat', 'Rosa wheat', 'Rosa wheat',\n",
       "       'Rosa wheat', 'Rosa wheat', 'Rosa wheat', 'Rosa wheat',\n",
       "       'Rosa wheat', 'Rosa wheat', 'Rosa wheat', 'Rosa wheat',\n",
       "       'Rosa wheat', 'Rosa wheat', 'Rosa wheat', 'Rosa wheat',\n",
       "       'Rosa wheat', 'Rosa wheat', 'Rosa wheat', 'Rosa wheat',\n",
       "       'Rosa wheat', 'Rosa wheat', 'Rosa wheat', 'Rosa wheat',\n",
       "       'Rosa wheat', 'Rosa wheat', 'Rosa wheat', 'Rosa wheat',\n",
       "       'Rosa wheat', 'Rosa wheat', 'Rosa wheat', 'Rosa wheat',\n",
       "       'Rosa wheat', 'Rosa wheat', 'Rosa wheat', 'Rosa wheat',\n",
       "       'Rosa wheat', 'Rosa wheat', 'Rosa wheat', 'Rosa wheat',\n",
       "       'Rosa wheat', 'Rosa wheat', 'Rosa wheat', 'Rosa wheat',\n",
       "       'Rosa wheat', 'Rosa wheat', 'Rosa wheat', 'Rosa wheat',\n",
       "       'Rosa wheat', 'Rosa wheat', 'Rosa wheat', 'Rosa wheat',\n",
       "       'Rosa wheat', 'Rosa wheat', 'Rosa wheat', 'Rosa wheat',\n",
       "       'Rosa wheat', 'Rosa wheat', 'Rosa wheat', 'Rosa wheat',\n",
       "       'Rosa wheat', 'Rosa wheat', 'Rosa wheat', 'Rosa wheat',\n",
       "       'Rosa wheat', 'Rosa wheat', 'Rosa wheat', 'Rosa wheat',\n",
       "       'Rosa wheat', 'Rosa wheat', 'Rosa wheat', 'Rosa wheat',\n",
       "       'Canadian wheat', 'Canadian wheat', 'Canadian wheat',\n",
       "       'Canadian wheat', 'Canadian wheat', 'Canadian wheat',\n",
       "       'Canadian wheat', 'Canadian wheat', 'Canadian wheat',\n",
       "       'Canadian wheat', 'Canadian wheat', 'Canadian wheat',\n",
       "       'Canadian wheat', 'Canadian wheat', 'Canadian wheat',\n",
       "       'Canadian wheat', 'Canadian wheat', 'Canadian wheat',\n",
       "       'Canadian wheat', 'Canadian wheat', 'Canadian wheat',\n",
       "       'Canadian wheat', 'Canadian wheat', 'Canadian wheat',\n",
       "       'Canadian wheat', 'Canadian wheat', 'Canadian wheat',\n",
       "       'Canadian wheat', 'Canadian wheat', 'Canadian wheat',\n",
       "       'Canadian wheat', 'Canadian wheat', 'Canadian wheat',\n",
       "       'Canadian wheat', 'Canadian wheat', 'Canadian wheat',\n",
       "       'Canadian wheat', 'Canadian wheat', 'Canadian wheat',\n",
       "       'Canadian wheat', 'Canadian wheat', 'Canadian wheat',\n",
       "       'Canadian wheat', 'Canadian wheat', 'Canadian wheat',\n",
       "       'Canadian wheat', 'Canadian wheat', 'Canadian wheat',\n",
       "       'Canadian wheat', 'Canadian wheat', 'Canadian wheat',\n",
       "       'Canadian wheat', 'Canadian wheat', 'Canadian wheat',\n",
       "       'Canadian wheat', 'Canadian wheat', 'Canadian wheat',\n",
       "       'Canadian wheat', 'Canadian wheat', 'Canadian wheat',\n",
       "       'Canadian wheat', 'Canadian wheat', 'Canadian wheat',\n",
       "       'Canadian wheat', 'Canadian wheat', 'Canadian wheat',\n",
       "       'Canadian wheat', 'Canadian wheat', 'Canadian wheat',\n",
       "       'Canadian wheat'], dtype=object)"
      ]
     },
     "execution_count": 97,
     "metadata": {},
     "output_type": "execute_result"
    }
   ],
   "source": [
    "Y"
   ]
  },
  {
   "cell_type": "markdown",
   "metadata": {},
   "source": [
    "## Splitting Dataset into train and test sets"
   ]
  },
  {
   "cell_type": "code",
   "execution_count": 98,
   "metadata": {},
   "outputs": [],
   "source": [
    "from sklearn.model_selection import train_test_split"
   ]
  },
  {
   "cell_type": "code",
   "execution_count": 106,
   "metadata": {},
   "outputs": [],
   "source": [
    "X_train, X_test, Y_train, Y_test = train_test_split(X,Y,test_size=0.25,random_state=40)"
   ]
  },
  {
   "cell_type": "code",
   "execution_count": 107,
   "metadata": {},
   "outputs": [
    {
     "data": {
      "text/plain": [
       "(157, 7)"
      ]
     },
     "execution_count": 107,
     "metadata": {},
     "output_type": "execute_result"
    }
   ],
   "source": [
    "X_train.shape"
   ]
  },
  {
   "cell_type": "code",
   "execution_count": 108,
   "metadata": {},
   "outputs": [
    {
     "data": {
      "text/plain": [
       "(157,)"
      ]
     },
     "execution_count": 108,
     "metadata": {},
     "output_type": "execute_result"
    }
   ],
   "source": [
    "Y_train.shape"
   ]
  },
  {
   "cell_type": "code",
   "execution_count": 109,
   "metadata": {},
   "outputs": [
    {
     "data": {
      "text/plain": [
       "(53, 7)"
      ]
     },
     "execution_count": 109,
     "metadata": {},
     "output_type": "execute_result"
    }
   ],
   "source": [
    "X_test.shape"
   ]
  },
  {
   "cell_type": "code",
   "execution_count": 110,
   "metadata": {},
   "outputs": [
    {
     "data": {
      "text/plain": [
       "(53,)"
      ]
     },
     "execution_count": 110,
     "metadata": {},
     "output_type": "execute_result"
    }
   ],
   "source": [
    "Y_test.shape"
   ]
  },
  {
   "cell_type": "code",
   "execution_count": 113,
   "metadata": {},
   "outputs": [],
   "source": [
    "Y_train = Y_train.reshape(-1,1)\n",
    "Y_test = Y_test.reshape(-1,1)"
   ]
  },
  {
   "cell_type": "markdown",
   "metadata": {},
   "source": [
    "## Standard Scaling"
   ]
  },
  {
   "cell_type": "code",
   "execution_count": 111,
   "metadata": {},
   "outputs": [],
   "source": [
    "from sklearn.preprocessing import StandardScaler"
   ]
  },
  {
   "cell_type": "code",
   "execution_count": 112,
   "metadata": {},
   "outputs": [],
   "source": [
    "sc = StandardScaler()"
   ]
  },
  {
   "cell_type": "code",
   "execution_count": 114,
   "metadata": {},
   "outputs": [],
   "source": [
    "X_train = sc.fit_transform(X_train)\n",
    "X_test = sc.transform(X_test)"
   ]
  },
  {
   "cell_type": "code",
   "execution_count": 119,
   "metadata": {},
   "outputs": [
    {
     "data": {
      "text/plain": [
       "array([[-0.97467242, -0.8907399 , -1.37858368, ..., -1.18186487,\n",
       "        -0.02152439, -0.17130038],\n",
       "       [-1.29941334, -1.38142819, -0.63213017, ..., -1.2260994 ,\n",
       "         2.7621621 , -0.9475048 ],\n",
       "       [-1.29941334, -1.33469597, -1.04243243, ..., -1.29798051,\n",
       "         0.47059929, -0.85378983],\n",
       "       ...,\n",
       "       [-0.99232138, -1.12440099,  0.35160657, ..., -0.89434044,\n",
       "        -1.050901  , -0.74581389],\n",
       "       [-0.28283306, -0.3844742 ,  0.93492786, ...,  0.10370109,\n",
       "        -0.69344872, -0.85990168],\n",
       "       [ 0.95965394,  1.07980198, -0.24160152, ...,  0.8197475 ,\n",
       "         0.29223131,  1.2996172 ]])"
      ]
     },
     "execution_count": 119,
     "metadata": {},
     "output_type": "execute_result"
    }
   ],
   "source": [
    "X_train"
   ]
  },
  {
   "cell_type": "code",
   "execution_count": 120,
   "metadata": {},
   "outputs": [
    {
     "data": {
      "text/plain": [
       "array([[ 2.43106036e-01,  4.02184814e-01, -7.01337784e-01,\n",
       "         4.14930386e-01,  5.94665604e-02, -6.75540289e-01,\n",
       "         6.72134353e-01],\n",
       "       [-9.49963870e-01, -9.91993035e-01, -3.45412931e-01,\n",
       "        -9.52687959e-01, -8.22459334e-01,  1.29008908e+00,\n",
       "        -4.09662365e-01],\n",
       "       [ 4.26655252e-01,  3.16509080e-01,  1.37489052e+00,\n",
       "         1.38257595e-01,  6.09633497e-01, -1.00147373e+00,\n",
       "         4.26142289e-02],\n",
       "       [-8.72308433e-01, -7.81698053e-01, -1.28465907e+00,\n",
       "        -7.38997593e-01, -1.01598539e+00,  8.99685290e-01,\n",
       "        -3.09835549e-01],\n",
       "       [-1.45472422e+00, -1.29575246e+00, -3.03956633e+00,\n",
       "        -7.43496337e-01, -1.70438523e+00,  1.28507472e+00,\n",
       "        -4.64668978e-01],\n",
       "       [-8.54659470e-01, -8.82951192e-01, -3.15752527e-01,\n",
       "        -8.55964951e-01, -8.22459334e-01,  5.39367661e-01,\n",
       "        -8.55827114e-01],\n",
       "       [ 1.50677179e+00,  1.58606768e+00, -2.40918834e-02,\n",
       "         1.62284330e+00,  1.15150646e+00, -2.22815157e-01,\n",
       "         1.64391785e+00],\n",
       "       [-1.87528664e-01, -2.98798462e-01,  1.13266389e+00,\n",
       "        -5.88289650e-01,  1.31347668e-01, -8.63936982e-01,\n",
       "        -9.49542084e-01],\n",
       "       [-1.40530712e+00, -1.39700560e+00, -1.64058392e+00,\n",
       "        -1.35307622e+00, -1.51362383e+00,  1.23922914e+00,\n",
       "        -7.68223990e-01],\n",
       "       [ 1.35499071e+00,  1.23557604e+00,  1.36994712e+00,\n",
       "         1.04250525e+00,  1.67126216e+00,  3.72461085e-01,\n",
       "         1.16108202e+00],\n",
       "       [ 1.28439486e+00,  1.26673085e+00,  7.07531425e-01,\n",
       "         1.13697889e+00,  1.13215385e+00, -1.38256514e+00,\n",
       "         9.61428391e-01],\n",
       "       [-1.22881749e+00, -1.13997839e+00, -1.91247096e+00,\n",
       "        -1.06065783e+00, -1.50809451e+00, -1.03657426e+00,\n",
       "        -5.90980459e-01],\n",
       "       [-8.08772166e-01, -7.19388428e-01, -1.19073446e+00,\n",
       "        -5.34304716e-01, -9.77280180e-01, -2.59348356e-01,\n",
       "        -3.89289546e-01],\n",
       "       [-1.09115558e+00, -9.29683411e-01, -2.21401841e+00,\n",
       "        -7.50244454e-01, -1.34774435e+00,  5.75184522e-01,\n",
       "        -4.97265489e-01],\n",
       "       [-9.53493663e-01, -8.75162489e-01, -1.32914968e+00,\n",
       "        -6.53521446e-01, -1.02704402e+00, -1.43772311e+00,\n",
       "        -4.97265489e-01],\n",
       "       [ 1.24203735e+00,  1.07201328e+00,  1.75553238e+00,\n",
       "         7.47837483e-01,  1.40032568e+00, -4.90008945e-01,\n",
       "         9.83838493e-01],\n",
       "       [-6.67580461e-01, -6.49290100e-01, -3.99790339e-01,\n",
       "        -5.68045300e-01, -6.59344513e-01, -2.11353761e-01,\n",
       "        -1.21642602e+00],\n",
       "       [ 1.08319668e+00,  9.78548841e-01,  1.34028672e+00,\n",
       "         7.45588110e-01,  1.16809441e+00, -1.01078612e+00,\n",
       "         1.01236044e+00],\n",
       "       [ 7.65515344e-01,  6.12479797e-01,  1.76541918e+00,\n",
       "         4.14930386e-01,  1.15703578e+00, -5.10066388e-01,\n",
       "         1.26142789e-01],\n",
       "       [-9.88791589e-01, -8.75162489e-01, -1.63069712e+00,\n",
       "        -1.09889716e+00, -6.42756565e-01, -1.55162073e+00,\n",
       "        -1.83983430e+00],\n",
       "       [-9.99380967e-01, -1.06209136e+00, -2.86092122e-01,\n",
       "        -1.23385949e+00, -9.08163731e-01, -1.61394207e+00,\n",
       "        -9.39355674e-01],\n",
       "       [-1.45119442e+00, -1.57614577e+00, -6.51903776e-01,\n",
       "        -1.49928542e+00, -1.22609940e+00,  7.91518367e-01,\n",
       "        -7.31552914e-01],\n",
       "       [-3.42839539e-01, -3.29953275e-01,  3.02855247e-02,\n",
       "        -1.40664567e-01, -3.16526924e-01, -1.10605897e+00,\n",
       "        -8.35454294e-01],\n",
       "       [-7.52295484e-01, -7.97275459e-01, -2.90352841e-02,\n",
       "        -8.67211813e-01, -6.59344513e-01, -1.78514667e+00,\n",
       "        -1.30402914e+00],\n",
       "       [ 2.10683654e+00,  1.91319321e+00,  1.52813595e+00,\n",
       "         1.80504245e+00,  2.12190141e+00,  9.65588315e-01,\n",
       "         1.83134779e+00],\n",
       "       [ 1.88092981e+00,  1.80415137e+00,  8.65720248e-01,\n",
       "         1.50137720e+00,  1.92837535e+00,  1.59954677e+00,\n",
       "         1.56038929e+00],\n",
       "       [ 5.29019238e-01,  5.11226657e-01,  7.12474826e-01,\n",
       "         1.58501946e-01,  7.20219816e-01,  3.93234865e-01,\n",
       "         3.99138571e-01],\n",
       "       [-1.33118147e+00, -1.40479430e+00, -8.10092600e-01,\n",
       "        -1.43180425e+00, -1.30074516e+00,  1.94840300e+00,\n",
       "        -7.60074862e-01],\n",
       "       [-2.82833065e-01, -3.22164572e-01,  4.85078392e-01,\n",
       "        -2.39636947e-01, -1.20236208e-01, -6.54766509e-01,\n",
       "        -7.82484963e-01],\n",
       "       [-1.09468537e+00, -8.90739896e-01, -2.58971686e+00,\n",
       "        -5.27556599e-01, -1.51638849e+00,  8.81060522e-01,\n",
       "        -1.42778429e-01],\n",
       "       [-7.45753002e-02, -2.98798462e-01,  2.13123084e+00,\n",
       "        -9.95426032e-01,  5.57104996e-01, -1.36179136e+00,\n",
       "        -1.57498764e+00],\n",
       "       [ 1.49265262e+00,  1.57049027e+00,  6.25120278e-04,\n",
       "         1.37541235e+00,  1.30632731e+00,  2.15900615e+00,\n",
       "         1.28535622e+00],\n",
       "       [ 9.31415597e-01,  8.30563483e-01,  1.33039992e+00,\n",
       "         3.22706122e-01,  1.17638838e+00,  1.21630635e+00,\n",
       "         4.86741695e-01],\n",
       "       [-1.30647293e+00, -1.13997839e+00, -2.74296229e+00,\n",
       "        -8.28972484e-01, -1.59656357e+00,  1.79152515e+00,\n",
       "        -2.99649140e-01],\n",
       "       [-1.23940687e+00, -1.17892191e+00, -1.71473493e+00,\n",
       "        -1.15063272e+00, -1.38644956e+00,  1.37533321e+00,\n",
       "        -6.78583583e-01],\n",
       "       [-1.47237318e+00, -1.45152652e+00, -1.94213137e+00,\n",
       "        -1.13038837e+00, -1.72097318e+00,  7.40658424e-01,\n",
       "        -9.35281110e-01],\n",
       "       [ 1.29851403e+00,  1.13432290e+00,  1.70115497e+00,\n",
       "         8.76051702e-01,  1.64638024e+00,  1.67118049e+00,\n",
       "         9.26794598e-01],\n",
       "       [-3.11071406e-01, -3.37741978e-01,  3.66436774e-01,\n",
       "        -4.71322292e-01, -1.75529368e-01, -1.39760822e+00,\n",
       "        -8.57864396e-01],\n",
       "       [ 1.58391013e-01,  1.29580206e-01,  6.87757822e-01,\n",
       "         1.20262617e-01,  3.55284964e-01, -1.64832625e+00,\n",
       "        -5.90980459e-01],\n",
       "       [-1.18293018e+00, -9.99781738e-01, -2.58971686e+00,\n",
       "        -6.40025213e-01, -1.60762220e+00,  2.82202593e-01,\n",
       "        -4.89116362e-01],\n",
       "       [-1.38111567e-01,  4.96095737e-03, -8.15036000e-01,\n",
       "         2.10237508e-01, -4.18819269e-01, -1.56666381e+00,\n",
       "         1.32254635e-01],\n",
       "       [ 3.80767948e-01,  2.30833346e-01,  1.69126817e+00,\n",
       "        -6.40025213e-01,  8.77805321e-01, -2.37858239e-01,\n",
       "        -5.66533076e-01],\n",
       "       [-1.25352604e+00, -1.20228802e+00, -1.68013113e+00,\n",
       "        -1.06290720e+00, -1.40856682e+00,  2.72173872e-01,\n",
       "        -3.24096523e-01],\n",
       "       [ 4.44304215e-01,  6.12479797e-01, -6.61790578e-01,\n",
       "         2.57474326e-01,  3.38697016e-01,  4.42662134e-01,\n",
       "         5.72307538e-01],\n",
       "       [ 1.40087802e+00,  1.29788567e+00,  1.22164510e+00,\n",
       "         9.81772199e-01,  1.38097307e+00, -1.44631915e+00,\n",
       "         1.39944401e+00],\n",
       "       [ 2.04683007e+00,  2.05338986e+00,  2.03304550e-01,\n",
       "         2.09521148e+00,  1.51920597e+00,  5.60857778e-01,\n",
       "         2.09619444e+00],\n",
       "       [-1.28529417e+00, -1.35027338e+00, -7.85375596e-01,\n",
       "        -1.25185447e+00, -1.27309858e+00,  2.27044626e-01,\n",
       "        -8.57864396e-01],\n",
       "       [-9.00546774e-01, -1.09324618e+00,  9.94248667e-01,\n",
       "        -1.28559506e+00, -6.15109986e-01, -3.20953358e-01,\n",
       "        -1.66462805e+00],\n",
       "       [ 1.65450598e-01,  2.38622049e-01, -7.84692914e-02,\n",
       "         5.31897744e-01,  9.70271684e-03,  5.68737487e-01,\n",
       "         7.59737477e-01],\n",
       "       [-6.18163364e-01, -8.12852865e-01,  1.41938113e+00,\n",
       "        -1.14613397e+00, -1.75529368e-01, -8.64653319e-01,\n",
       "        -1.30199186e+00],\n",
       "       [ 1.34440133e+00,  1.24336475e+00,  1.26119231e+00,\n",
       "         8.06321162e-01,  1.63808626e+00,  1.18622018e+00,\n",
       "         9.30869162e-01],\n",
       "       [-7.16997557e-01, -8.51796380e-01,  7.76739035e-01,\n",
       "        -1.14388460e+00, -4.02231321e-01, -9.42734078e-01,\n",
       "        -1.66055349e+00],\n",
       "       [ 1.40440781e+00,  1.27451956e+00,  1.41443773e+00,\n",
       "         1.30343244e+00,  1.39479636e+00, -2.08080568e-02,\n",
       "         1.10811269e+00]])"
      ]
     },
     "execution_count": 120,
     "metadata": {},
     "output_type": "execute_result"
    }
   ],
   "source": [
    "X_test"
   ]
  },
  {
   "cell_type": "markdown",
   "metadata": {},
   "source": [
    "## Building ML Model using KNN classifier."
   ]
  },
  {
   "cell_type": "code",
   "execution_count": 121,
   "metadata": {},
   "outputs": [],
   "source": [
    "from sklearn.neighbors import KNeighborsClassifier"
   ]
  },
  {
   "cell_type": "code",
   "execution_count": 123,
   "metadata": {},
   "outputs": [],
   "source": [
    "classifier = KNeighborsClassifier(n_neighbors=5)"
   ]
  },
  {
   "cell_type": "code",
   "execution_count": 124,
   "metadata": {},
   "outputs": [
    {
     "name": "stderr",
     "output_type": "stream",
     "text": [
      "C:\\Users\\Ravi\\Anaconda3\\lib\\site-packages\\ipykernel_launcher.py:1: DataConversionWarning: A column-vector y was passed when a 1d array was expected. Please change the shape of y to (n_samples, ), for example using ravel().\n",
      "  \"\"\"Entry point for launching an IPython kernel.\n"
     ]
    },
    {
     "data": {
      "text/plain": [
       "KNeighborsClassifier(algorithm='auto', leaf_size=30, metric='minkowski',\n",
       "                     metric_params=None, n_jobs=None, n_neighbors=5, p=2,\n",
       "                     weights='uniform')"
      ]
     },
     "execution_count": 124,
     "metadata": {},
     "output_type": "execute_result"
    }
   ],
   "source": [
    "classifier.fit(X_train,Y_train)"
   ]
  },
  {
   "cell_type": "code",
   "execution_count": 125,
   "metadata": {},
   "outputs": [],
   "source": [
    "Y_pred = classifier.predict(X_test)"
   ]
  },
  {
   "cell_type": "code",
   "execution_count": 126,
   "metadata": {},
   "outputs": [
    {
     "data": {
      "text/plain": [
       "array(['Kama wheat', 'Canadian wheat', 'Kama wheat', 'Canadian wheat',\n",
       "       'Canadian wheat', 'Canadian wheat', 'Rosa wheat', 'Kama wheat',\n",
       "       'Canadian wheat', 'Rosa wheat', 'Rosa wheat', 'Canadian wheat',\n",
       "       'Canadian wheat', 'Canadian wheat', 'Kama wheat', 'Rosa wheat',\n",
       "       'Kama wheat', 'Rosa wheat', 'Rosa wheat', 'Kama wheat',\n",
       "       'Kama wheat', 'Canadian wheat', 'Kama wheat', 'Kama wheat',\n",
       "       'Rosa wheat', 'Rosa wheat', 'Rosa wheat', 'Canadian wheat',\n",
       "       'Kama wheat', 'Canadian wheat', 'Kama wheat', 'Rosa wheat',\n",
       "       'Rosa wheat', 'Canadian wheat', 'Canadian wheat', 'Canadian wheat',\n",
       "       'Rosa wheat', 'Kama wheat', 'Kama wheat', 'Canadian wheat',\n",
       "       'Kama wheat', 'Kama wheat', 'Canadian wheat', 'Rosa wheat',\n",
       "       'Rosa wheat', 'Rosa wheat', 'Canadian wheat', 'Canadian wheat',\n",
       "       'Rosa wheat', 'Kama wheat', 'Rosa wheat', 'Canadian wheat',\n",
       "       'Rosa wheat'], dtype=object)"
      ]
     },
     "execution_count": 126,
     "metadata": {},
     "output_type": "execute_result"
    }
   ],
   "source": [
    "Y_pred"
   ]
  },
  {
   "cell_type": "code",
   "execution_count": 128,
   "metadata": {},
   "outputs": [
    {
     "data": {
      "text/plain": [
       "(53,)"
      ]
     },
     "execution_count": 128,
     "metadata": {},
     "output_type": "execute_result"
    }
   ],
   "source": [
    "Y_pred.shape"
   ]
  },
  {
   "cell_type": "code",
   "execution_count": 129,
   "metadata": {},
   "outputs": [],
   "source": [
    "Y_pred = Y_pred.reshape(-1,1)"
   ]
  },
  {
   "cell_type": "code",
   "execution_count": 127,
   "metadata": {},
   "outputs": [],
   "source": [
    "from sklearn.metrics import confusion_matrix,accuracy_score"
   ]
  },
  {
   "cell_type": "code",
   "execution_count": 130,
   "metadata": {},
   "outputs": [
    {
     "data": {
      "text/plain": [
       "array([[17,  2,  0],\n",
       "       [ 1, 13,  2],\n",
       "       [ 0,  1, 17]], dtype=int64)"
      ]
     },
     "execution_count": 130,
     "metadata": {},
     "output_type": "execute_result"
    }
   ],
   "source": [
    "cm = confusion_matrix(Y_pred,Y_test)\n",
    "cm"
   ]
  },
  {
   "cell_type": "code",
   "execution_count": 131,
   "metadata": {},
   "outputs": [
    {
     "name": "stdout",
     "output_type": "stream",
     "text": [
      "Accuracy Score: 0.8867924528301887\n"
     ]
    }
   ],
   "source": [
    "print(\"Accuracy Score:\",accuracy_score(Y_pred,Y_test))"
   ]
  },
  {
   "cell_type": "code",
   "execution_count": 132,
   "metadata": {},
   "outputs": [],
   "source": [
    "Y_train_pred = classifier.predict(X_train)"
   ]
  },
  {
   "cell_type": "code",
   "execution_count": 133,
   "metadata": {},
   "outputs": [
    {
     "name": "stdout",
     "output_type": "stream",
     "text": [
      "Accuracy Score for Train: 0.9490445859872612\n"
     ]
    }
   ],
   "source": [
    "print(\"Accuracy Score for Train:\",accuracy_score(Y_train_pred,Y_train))"
   ]
  },
  {
   "cell_type": "markdown",
   "metadata": {},
   "source": [
    "### Report\n",
    "\n",
    "Accuracy for Train set  94%\n",
    "<br>\n",
    "Accuracy fro Test set  88%"
   ]
  }
 ],
 "metadata": {
  "kernelspec": {
   "display_name": "Python 3",
   "language": "python",
   "name": "python3"
  },
  "language_info": {
   "codemirror_mode": {
    "name": "ipython",
    "version": 3
   },
   "file_extension": ".py",
   "mimetype": "text/x-python",
   "name": "python",
   "nbconvert_exporter": "python",
   "pygments_lexer": "ipython3",
   "version": "3.7.4"
  }
 },
 "nbformat": 4,
 "nbformat_minor": 2
}
